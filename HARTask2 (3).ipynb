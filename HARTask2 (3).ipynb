{
  "cells": [
    {
      "cell_type": "code",
      "execution_count": 16,
      "metadata": {
        "id": "0bLy-f2GX6SA"
      },
      "outputs": [],
      "source": [
        "import numpy as np\n",
        "import pandas as pd\n",
        "import matplotlib.pyplot as plt\n",
        "import seaborn as sns\n",
        "\n",
        "from sklearn.tree import DecisionTreeClassifier\n",
        "from sklearn.metrics import accuracy_score, precision_score, recall_score, confusion_matrix\n",
        "from sklearn.preprocessing import StandardScaler\n",
        "\n",
        "import tsfel"
      ]
    },
    {
      "cell_type": "code",
      "execution_count": 17,
      "metadata": {
        "colab": {
          "base_uri": "https://localhost:8080/"
        },
        "id": "Va_2I2cjX6Lh",
        "outputId": "41d4161d-90f9-424b-8b54-7582546b5324"
      },
      "outputs": [
        {
          "name": "stderr",
          "output_type": "stream",
          "text": [
            "C:\\Users\\vansh\\AppData\\Local\\Temp\\ipykernel_4364\\2714548088.py:2: FutureWarning: The 'delim_whitespace' keyword in pd.read_csv is deprecated and will be removed in a future version. Use ``sep='\\s+'`` instead\n",
            "  X_train = pd.read_csv(r\"UCI HAR Dataset\\UCI HAR Dataset\\train\\X_train.txt\", delim_whitespace=True, header=None)\n",
            "C:\\Users\\vansh\\AppData\\Local\\Temp\\ipykernel_4364\\2714548088.py:4: FutureWarning: The 'delim_whitespace' keyword in pd.read_csv is deprecated and will be removed in a future version. Use ``sep='\\s+'`` instead\n",
            "  X_test = pd.read_csv(r\"UCI HAR Dataset\\UCI HAR Dataset\\test\\X_test.txt\", delim_whitespace=True, header=None)\n"
          ]
        }
      ],
      "source": [
        "# Load provided features\n",
        "X_train = pd.read_csv(r\"UCI HAR Dataset\\UCI HAR Dataset\\train\\X_train.txt\", delim_whitespace=True, header=None)\n",
        "y_train = pd.read_csv(r\"UCI HAR Dataset\\UCI HAR Dataset\\train\\y_train.txt\", header=None).values.ravel()\n",
        "X_test = pd.read_csv(r\"UCI HAR Dataset\\UCI HAR Dataset\\test\\X_test.txt\", delim_whitespace=True, header=None)\n",
        "y_test = pd.read_csv(r\"UCI HAR Dataset\\UCI HAR Dataset\\test\\y_test.txt\", header=None).values.ravel()"
      ]
    },
    {
      "cell_type": "code",
      "execution_count": 18,
      "metadata": {
        "colab": {
          "base_uri": "https://localhost:8080/"
        },
        "id": "VVoCk76GX-ex",
        "outputId": "2c20c3a7-377c-46b8-9e15-8626505447af"
      },
      "outputs": [
        {
          "data": {
            "text/plain": [
              "((7352, 561), (7352,), (2947, 561), (2947,))"
            ]
          },
          "execution_count": 18,
          "metadata": {},
          "output_type": "execute_result"
        }
      ],
      "source": [
        "X_train.shape , y_train.shape, X_test.shape, y_test.shape"
      ]
    },
    {
      "cell_type": "code",
      "execution_count": 19,
      "metadata": {
        "colab": {
          "base_uri": "https://localhost:8080/"
        },
        "id": "Bgd-2fgoYGac",
        "outputId": "cf6b9e64-9683-4d18-8382-f2308de298fc"
      },
      "outputs": [
        {
          "name": "stdout",
          "output_type": "stream",
          "text": [
            "{1: 'WALKING', 2: 'WALKING_UPSTAIRS', 3: 'WALKING_DOWNSTAIRS', 4: 'SITTING', 5: 'STANDING', 6: 'LAYING'}\n"
          ]
        },
        {
          "name": "stderr",
          "output_type": "stream",
          "text": [
            "<>:3: SyntaxWarning: invalid escape sequence '\\s'\n",
            "<>:3: SyntaxWarning: invalid escape sequence '\\s'\n",
            "C:\\Users\\vansh\\AppData\\Local\\Temp\\ipykernel_4364\\3946443044.py:3: SyntaxWarning: invalid escape sequence '\\s'\n",
            "  sep='\\s+', header=None, index_col=0)[1].to_dict()\n"
          ]
        }
      ],
      "source": [
        "# Load activity labels\n",
        "activity_labels = pd.read_csv(r\"UCI HAR Dataset\\UCI HAR Dataset\\activity_labels.txt\",\n",
        "                              sep='\\s+', header=None, index_col=0)[1].to_dict()\n",
        "\n",
        "print(activity_labels)\n"
      ]
    },
    {
      "cell_type": "code",
      "execution_count": 20,
      "metadata": {
        "id": "qoaqvuTzYbMV"
      },
      "outputs": [],
      "source": [
        "from sklearn.decomposition import PCA\n",
        "\n",
        "\n"
      ]
    },
    {
      "cell_type": "markdown",
      "metadata": {
        "id": "aR6FR2p8pGpn"
      },
      "source": [
        "**PROVIDED FEATURES**"
      ]
    },
    {
      "cell_type": "code",
      "execution_count": 21,
      "metadata": {
        "colab": {
          "base_uri": "https://localhost:8080/",
          "height": 521
        },
        "id": "DKVBXdzLZauQ",
        "outputId": "42957473-7203-4345-b1c0-28aa2b42a3dc"
      },
      "outputs": [
        {
          "name": "stdout",
          "output_type": "stream",
          "text": [
            "Decision Tree (Provided Features):\n",
            "Accuracy: 0.8622\n",
            "Precision: 0.8633\n",
            "Recall: 0.8622\n"
          ]
        },
        {
          "data": {
            "image/png": "[encoded data removed]",
            "text/plain": [
              "<Figure size 640x480 with 2 Axes>"
            ]
          },
          "metadata": {},
          "output_type": "display_data"
        }
      ],
      "source": [
        "# [6]\n",
        "# -----------------------------\n",
        "# 1. Decision Tree using provided features\n",
        "# -----------------------------\n",
        "\n",
        "dt_provided = DecisionTreeClassifier(random_state=42)\n",
        "dt_provided.fit(X_train, y_train)\n",
        "\n",
        "y_pred_provided = dt_provided.predict(X_test)\n",
        "\n",
        "acc_provided = accuracy_score(y_test, y_pred_provided)\n",
        "prec_provided = precision_score(y_test, y_pred_provided, average='weighted')\n",
        "rec_provided = recall_score(y_test, y_pred_provided, average='weighted')\n",
        "cm_provided = confusion_matrix(y_test, y_pred_provided)\n",
        "\n",
        "print(\"Decision Tree (Provided Features):\")\n",
        "print(f\"Accuracy: {acc_provided:.4f}\")\n",
        "print(f\"Precision: {prec_provided:.4f}\")\n",
        "print(f\"Recall: {rec_provided:.4f}\")\n",
        "\n",
        "sns.heatmap(cm_provided, annot=True, fmt='d', cmap='Blues')\n",
        "plt.title(\"Confusion Matrix - Provided Features\")\n",
        "plt.show()\n"
      ]
    },
    {
      "cell_type": "markdown",
      "metadata": {
        "id": "ZsHQ7xxxqKxB"
      },
      "source": [
        "**RAW ACCELEROMETER**"
      ]
    },
    {
      "cell_type": "code",
      "execution_count": 22,
      "metadata": {
        "colab": {
          "base_uri": "https://localhost:8080/",
          "height": 678
        },
        "id": "bOR_FbaxZcGj",
        "outputId": "e6be0e6b-39a2-4d53-b9ff-dd14023954b7"
      },
      "outputs": [
        {
          "name": "stderr",
          "output_type": "stream",
          "text": [
            "<>:16: SyntaxWarning: invalid escape sequence '\\s'\n",
            "<>:20: SyntaxWarning: invalid escape sequence '\\s'\n",
            "<>:16: SyntaxWarning: invalid escape sequence '\\s'\n",
            "<>:20: SyntaxWarning: invalid escape sequence '\\s'\n",
            "C:\\Users\\vansh\\AppData\\Local\\Temp\\ipykernel_4364\\3678169875.py:16: SyntaxWarning: invalid escape sequence '\\s'\n",
            "  sep='\\s+', header=None)\n",
            "C:\\Users\\vansh\\AppData\\Local\\Temp\\ipykernel_4364\\3678169875.py:20: SyntaxWarning: invalid escape sequence '\\s'\n",
            "  sep='\\s+', header=None)\n"
          ]
        },
        {
          "name": "stdout",
          "output_type": "stream",
          "text": [
            "Raw accelerometer shape: (7352, 384) (2947, 384)\n",
            "Decision Tree (Raw Accelerometer Data):\n",
            "Accuracy: 0.7058\n",
            "Precision: 0.7065\n",
            "Recall: 0.7058\n"
          ]
        },
        {
          "data": {
            "image/png": "[encoded data removed]",
            "text/plain": [
              "<Figure size 640x480 with 2 Axes>"
            ]
          },
          "metadata": {},
          "output_type": "display_data"
        }
      ],
      "source": [
        "# [7]\n",
        "# -----------------------------\n",
        "# 2. Decision Tree using raw accelerometer data\n",
        "# -----------------------------\n",
        "# Load raw signals (accelerometer only, total_acc_x, y, z)\n",
        "# Each file = (samples, 128 readings per window)\n",
        "\n",
        "import os\n",
        "\n",
        "signal_types = [\"total_acc_x\", \"total_acc_y\", \"total_acc_z\"]\n",
        "X_train_raw, X_test_raw = [], []\n",
        "\n",
        "for signal in signal_types:\n",
        "    X_train_raw.append(\n",
        "        pd.read_csv(f\"UCI HAR Dataset/UCI HAR Dataset/train/Inertial Signals/{signal}_train.txt\",\n",
        "                    sep='\\s+', header=None)\n",
        "    )\n",
        "    X_test_raw.append(\n",
        "        pd.read_csv(f\"UCI HAR Dataset/UCI HAR Dataset/test/Inertial Signals/{signal}_test.txt\",\n",
        "                    sep='\\s+', header=None)\n",
        "    )\n",
        "\n",
        "# Concatenate all 3 axes\n",
        "X_train_raw = pd.concat(X_train_raw, axis=1)\n",
        "X_test_raw = pd.concat(X_test_raw, axis=1)\n",
        "\n",
        "print(\"Raw accelerometer shape:\", X_train_raw.shape, X_test_raw.shape)\n",
        "\n",
        "# Train Decision Tree\n",
        "dt_raw = DecisionTreeClassifier(random_state=42)\n",
        "dt_raw.fit(X_train_raw, y_train)\n",
        "y_pred_raw = dt_raw.predict(X_test_raw)\n",
        "\n",
        "acc_raw = accuracy_score(y_test, y_pred_raw)\n",
        "prec_raw = precision_score(y_test, y_pred_raw, average='weighted')\n",
        "rec_raw = recall_score(y_test, y_pred_raw, average='weighted')\n",
        "cm_raw = confusion_matrix(y_test, y_pred_raw)\n",
        "\n",
        "print(\"Decision Tree (Raw Accelerometer Data):\")\n",
        "print(f\"Accuracy: {acc_raw:.4f}\")\n",
        "print(f\"Precision: {prec_raw:.4f}\")\n",
        "print(f\"Recall: {rec_raw:.4f}\")\n",
        "\n",
        "sns.heatmap(cm_raw, annot=True, fmt='d', cmap='Reds')\n",
        "plt.title(\"Confusion Matrix - Raw Accelerometer\")\n",
        "plt.show()\n"
      ]
    },
    {
      "cell_type": "markdown",
      "metadata": {
        "id": "5gJVjpq-pOf-"
      },
      "source": [
        "Here by using raw accelarometer data  we get good accuracy in class 6 and overall great accuracy of 0.70508\n"
      ]
    },
    {
      "cell_type": "code",
      "execution_count": 23,
      "metadata": {
        "colab": {
          "base_uri": "https://localhost:8080/"
        },
        "id": "7oapLtCYaQTp",
        "outputId": "61398756-ce9a-4f83-e2af-df7e7c258bf5"
      },
      "outputs": [
        {
          "name": "stderr",
          "output_type": "stream",
          "text": [
            "<>:6: SyntaxWarning: invalid escape sequence '\\s'\n",
            "<>:8: SyntaxWarning: invalid escape sequence '\\s'\n",
            "<>:6: SyntaxWarning: invalid escape sequence '\\s'\n",
            "<>:8: SyntaxWarning: invalid escape sequence '\\s'\n",
            "C:\\Users\\vansh\\AppData\\Local\\Temp\\ipykernel_4364\\594932989.py:6: SyntaxWarning: invalid escape sequence '\\s'\n",
            "  sep='\\s+', header=None)\n",
            "C:\\Users\\vansh\\AppData\\Local\\Temp\\ipykernel_4364\\594932989.py:8: SyntaxWarning: invalid escape sequence '\\s'\n",
            "  sep='\\s+', header=None)\n"
          ]
        },
        {
          "name": "stdout",
          "output_type": "stream",
          "text": [
            "acc_x_train shape: (7352, 128)\n",
            "acc_x_test shape: (2947, 128)\n"
          ]
        }
      ],
      "source": [
        "# [8] Load raw inertial signals (example for one axis)\n",
        "# These files are in train/Inertial Signals/ and test/Inertial Signals/\n",
        "\n",
        "# Example: Body acceleration in X direction\n",
        "acc_x_train = pd.read_csv(r'UCI HAR Dataset\\UCI HAR Dataset\\train\\Inertial Signals/body_acc_x_train.txt',\n",
        "                          sep='\\s+', header=None)\n",
        "acc_x_test = pd.read_csv(r'UCI HAR Dataset\\UCI HAR Dataset\\test\\Inertial Signals/body_acc_x_test.txt',\n",
        "                         sep='\\s+', header=None)\n",
        "\n",
        "print(\"acc_x_train shape:\", acc_x_train.shape)  # (7352, 128)\n",
        "print(\"acc_x_test shape:\", acc_x_test.shape)    # (2947, 128)\n"
      ]
    },
    {
      "cell_type": "code",
      "execution_count": 24,
      "metadata": {
        "colab": {
          "base_uri": "https://localhost:8080/"
        },
        "id": "O19mZE4XbcoK",
        "outputId": "bc464f39-6805-4631-e143-5eedab1dba58"
      },
      "outputs": [
        {
          "name": "stderr",
          "output_type": "stream",
          "text": [
            "<>:4: SyntaxWarning: invalid escape sequence '\\s'\n",
            "<>:5: SyntaxWarning: invalid escape sequence '\\s'\n",
            "<>:6: SyntaxWarning: invalid escape sequence '\\s'\n",
            "<>:8: SyntaxWarning: invalid escape sequence '\\s'\n",
            "<>:9: SyntaxWarning: invalid escape sequence '\\s'\n",
            "<>:10: SyntaxWarning: invalid escape sequence '\\s'\n",
            "<>:4: SyntaxWarning: invalid escape sequence '\\s'\n",
            "<>:5: SyntaxWarning: invalid escape sequence '\\s'\n",
            "<>:6: SyntaxWarning: invalid escape sequence '\\s'\n",
            "<>:8: SyntaxWarning: invalid escape sequence '\\s'\n",
            "<>:9: SyntaxWarning: invalid escape sequence '\\s'\n",
            "<>:10: SyntaxWarning: invalid escape sequence '\\s'\n",
            "C:\\Users\\vansh\\AppData\\Local\\Temp\\ipykernel_4364\\3207201598.py:4: SyntaxWarning: invalid escape sequence '\\s'\n",
            "  acc_train_x = pd.read_csv(r'UCI HAR Dataset\\UCI HAR Dataset\\train\\Inertial Signals/body_acc_x_train.txt', sep='\\s+', header=None)\n",
            "C:\\Users\\vansh\\AppData\\Local\\Temp\\ipykernel_4364\\3207201598.py:5: SyntaxWarning: invalid escape sequence '\\s'\n",
            "  acc_train_y = pd.read_csv(r'UCI HAR Dataset\\UCI HAR Dataset\\train\\Inertial Signals/body_acc_y_train.txt', sep='\\s+', header=None)\n",
            "C:\\Users\\vansh\\AppData\\Local\\Temp\\ipykernel_4364\\3207201598.py:6: SyntaxWarning: invalid escape sequence '\\s'\n",
            "  acc_train_z = pd.read_csv(r'UCI HAR Dataset\\UCI HAR Dataset\\train\\Inertial Signals/body_acc_z_train.txt', sep='\\s+', header=None)\n",
            "C:\\Users\\vansh\\AppData\\Local\\Temp\\ipykernel_4364\\3207201598.py:8: SyntaxWarning: invalid escape sequence '\\s'\n",
            "  acc_test_x = pd.read_csv(r'UCI HAR Dataset\\UCI HAR Dataset\\test\\Inertial Signals\\body_acc_x_test.txt', sep='\\s+', header=None)\n",
            "C:\\Users\\vansh\\AppData\\Local\\Temp\\ipykernel_4364\\3207201598.py:9: SyntaxWarning: invalid escape sequence '\\s'\n",
            "  acc_test_y = pd.read_csv(r'UCI HAR Dataset\\UCI HAR Dataset\\test\\Inertial Signals\\body_acc_y_test.txt', sep='\\s+', header=None)\n",
            "C:\\Users\\vansh\\AppData\\Local\\Temp\\ipykernel_4364\\3207201598.py:10: SyntaxWarning: invalid escape sequence '\\s'\n",
            "  acc_test_z = pd.read_csv(r'UCI HAR Dataset\\UCI HAR Dataset\\test\\Inertial Signals\\body_acc_z_test.txt', sep='\\s+', header=None)\n"
          ]
        }
      ],
      "source": [
        "import pandas as pd\n",
        "\n",
        "# Each row = 1 sample, each column = 1 timestep\n",
        "acc_train_x = pd.read_csv(r'UCI HAR Dataset\\UCI HAR Dataset\\train\\Inertial Signals/body_acc_x_train.txt', sep='\\s+', header=None)\n",
        "acc_train_y = pd.read_csv(r'UCI HAR Dataset\\UCI HAR Dataset\\train\\Inertial Signals/body_acc_y_train.txt', sep='\\s+', header=None)\n",
        "acc_train_z = pd.read_csv(r'UCI HAR Dataset\\UCI HAR Dataset\\train\\Inertial Signals/body_acc_z_train.txt', sep='\\s+', header=None)\n",
        "\n",
        "acc_test_x = pd.read_csv(r'UCI HAR Dataset\\UCI HAR Dataset\\test\\Inertial Signals\\body_acc_x_test.txt', sep='\\s+', header=None)\n",
        "acc_test_y = pd.read_csv(r'UCI HAR Dataset\\UCI HAR Dataset\\test\\Inertial Signals\\body_acc_y_test.txt', sep='\\s+', header=None)\n",
        "acc_test_z = pd.read_csv(r'UCI HAR Dataset\\UCI HAR Dataset\\test\\Inertial Signals\\body_acc_z_test.txt', sep='\\s+', header=None)\n"
      ]
    },
    {
      "cell_type": "code",
      "execution_count": 25,
      "metadata": {
        "colab": {
          "base_uri": "https://localhost:8080/"
        },
        "id": "zEV3vIK9lOnr",
        "outputId": "420538e4-1d23-40b0-e7f2-c5ce4e9eb534"
      },
      "outputs": [
        {
          "name": "stderr",
          "output_type": "stream",
          "text": [
            "<>:7: SyntaxWarning: invalid escape sequence '\\s'\n",
            "<>:8: SyntaxWarning: invalid escape sequence '\\s'\n",
            "<>:7: SyntaxWarning: invalid escape sequence '\\s'\n",
            "<>:8: SyntaxWarning: invalid escape sequence '\\s'\n",
            "C:\\Users\\vansh\\AppData\\Local\\Temp\\ipykernel_4364\\3067153851.py:7: SyntaxWarning: invalid escape sequence '\\s'\n",
            "  acc_train = [pd.read_csv(f'{train_path}/{ax}_train.txt', sep='\\s+', header=None) for ax in axes]\n",
            "C:\\Users\\vansh\\AppData\\Local\\Temp\\ipykernel_4364\\3067153851.py:8: SyntaxWarning: invalid escape sequence '\\s'\n",
            "  acc_test  = [pd.read_csv(f'{test_path}/{ax}_test.txt', sep='\\s+', header=None) for ax in axes]\n"
          ]
        },
        {
          "name": "stdout",
          "output_type": "stream",
          "text": [
            "Training shapes: [(7352, 128), (7352, 128), (7352, 128)]\n",
            "Testing shapes: [(2947, 128), (2947, 128), (2947, 128)]\n"
          ]
        }
      ],
      "source": [
        "\n",
        "\n",
        "train_path = r'UCI HAR Dataset\\UCI HAR Dataset\\train\\Inertial Signals'\n",
        "test_path  = r'UCI HAR Dataset\\UCI HAR Dataset\\test\\Inertial Signals'\n",
        "\n",
        "axes = ['body_acc_x', 'body_acc_y', 'body_acc_z']\n",
        "\n",
        "# Load all axes\n",
        "acc_train = [pd.read_csv(f'{train_path}/{ax}_train.txt', sep='\\s+', header=None) for ax in axes]\n",
        "acc_test  = [pd.read_csv(f'{test_path}/{ax}_test.txt', sep='\\s+', header=None) for ax in axes]\n",
        "\n",
        "print(\"Training shapes:\", [df.shape for df in acc_train])\n",
        "print(\"Testing shapes:\", [df.shape for df in acc_test])\n",
        "\n",
        "#\n"
      ]
    },
    {
      "cell_type": "markdown",
      "metadata": {
        "id": "HlPXn6rNo5-u"
      },
      "source": [
        "**TSFEL**"
      ]
    },
    {
      "cell_type": "code",
      "execution_count": 26,
      "metadata": {
        "id": "KPYQv7lzlCH_"
      },
      "outputs": [],
      "source": [
        "import tsfel\n",
        "cfg = tsfel.get_features_by_domain(\"temporal\")\n"
      ]
    },
    {
      "cell_type": "code",
      "execution_count": 38,
      "metadata": {
        "id": "34h2DfjulTBq"
      },
      "outputs": [],
      "source": [
        "import numpy as np\n",
        "import pandas as pd\n",
        "\n",
        "def extract_axis_features(series: pd.Series) -> pd.Series:\n",
        "    \"\"\"Extract basic statistical features from one axis of accelerometer data\"\"\"\n",
        "    return pd.Series({\n",
        "        \"mean\": series.mean(),\n",
        "        \"std\": series.std(),\n",
        "        \"min\": series.min(),\n",
        "        \"max\": series.max(),\n",
        "        \"median\": series.median(),\n",
        "        \"energy\": np.sum(series**2) / len(series),   # signal energy\n",
        "    })\n",
        "\n",
        "def extract_all_axes(acc_list):\n",
        "    # acc_list = [x_axis_df, y_axis_df, z_axis_df]\n",
        "    all_feats = []\n",
        "    axis_names = [\"x\", \"y\", \"z\"]\n",
        "    for axis_name, df in zip(axis_names, acc_list):\n",
        "        feats = extract_axis_features(df.squeeze())  # ensure it's a Series\n",
        "        # Add prefix (x_, y_, z_) to avoid duplicate col names\n",
        "        feats.index = [f\"{axis_name}_{col}\" for col in feats.index]\n",
        "        all_feats.append(feats)\n",
        "    return pd.DataFrame([pd.concat(all_feats)])  # single row of features\n"
      ]
    },
    {
      "cell_type": "code",
      "execution_count": 39,
      "metadata": {
        "colab": {
          "base_uri": "https://localhost:8080/"
        },
        "id": "D5Kkce7ElH0X",
        "outputId": "0bfb2117-1512-4118-f91b-bdb217b2bbe5"
      },
      "outputs": [
        {
          "name": "stdout",
          "output_type": "stream",
          "text": [
            "Feature shapes: (1, 18) (1, 18)\n"
          ]
        },
        {
          "name": "stderr",
          "output_type": "stream",
          "text": [
            "c:\\Users\\vansh\\AppData\\Local\\Programs\\Python\\Python313\\Lib\\site-packages\\numpy\\_core\\fromnumeric.py:84: FutureWarning: The behavior of DataFrame.sum with axis=None is deprecated, in a future version this will reduce over both axes and return a scalar. To retain the old behavior, pass axis=0 (or do not pass axis)\n",
            "  return reduction(axis=axis, out=out, **passkwargs)\n",
            "c:\\Users\\vansh\\AppData\\Local\\Programs\\Python\\Python313\\Lib\\site-packages\\numpy\\_core\\fromnumeric.py:84: FutureWarning: The behavior of DataFrame.sum with axis=None is deprecated, in a future version this will reduce over both axes and return a scalar. To retain the old behavior, pass axis=0 (or do not pass axis)\n",
            "  return reduction(axis=axis, out=out, **passkwargs)\n",
            "c:\\Users\\vansh\\AppData\\Local\\Programs\\Python\\Python313\\Lib\\site-packages\\numpy\\_core\\fromnumeric.py:84: FutureWarning: The behavior of DataFrame.sum with axis=None is deprecated, in a future version this will reduce over both axes and return a scalar. To retain the old behavior, pass axis=0 (or do not pass axis)\n",
            "  return reduction(axis=axis, out=out, **passkwargs)\n",
            "c:\\Users\\vansh\\AppData\\Local\\Programs\\Python\\Python313\\Lib\\site-packages\\numpy\\_core\\fromnumeric.py:84: FutureWarning: The behavior of DataFrame.sum with axis=None is deprecated, in a future version this will reduce over both axes and return a scalar. To retain the old behavior, pass axis=0 (or do not pass axis)\n",
            "  return reduction(axis=axis, out=out, **passkwargs)\n",
            "c:\\Users\\vansh\\AppData\\Local\\Programs\\Python\\Python313\\Lib\\site-packages\\numpy\\_core\\fromnumeric.py:84: FutureWarning: The behavior of DataFrame.sum with axis=None is deprecated, in a future version this will reduce over both axes and return a scalar. To retain the old behavior, pass axis=0 (or do not pass axis)\n",
            "  return reduction(axis=axis, out=out, **passkwargs)\n",
            "c:\\Users\\vansh\\AppData\\Local\\Programs\\Python\\Python313\\Lib\\site-packages\\numpy\\_core\\fromnumeric.py:84: FutureWarning: The behavior of DataFrame.sum with axis=None is deprecated, in a future version this will reduce over both axes and return a scalar. To retain the old behavior, pass axis=0 (or do not pass axis)\n",
            "  return reduction(axis=axis, out=out, **passkwargs)\n"
          ]
        }
      ],
      "source": [
        "import joblib\n",
        "\n",
        "# Training features\n",
        "X_train_feats = extract_all_axes(acc_train)\n",
        "\n",
        "# Testing features\n",
        "X_test_feats = extract_all_axes(acc_test)\n",
        "\n",
        "print(\"Feature shapes:\", X_train_feats.shape, X_test_feats.shape)\n"
      ]
    },
    {
      "cell_type": "code",
      "execution_count": 40,
      "metadata": {
        "colab": {
          "base_uri": "https://localhost:8080/"
        },
        "id": "9dXfu7y9Z_5g",
        "outputId": "7b9fa4b3-1693-471d-b175-055bba5201d9"
      },
      "outputs": [
        {
          "ename": "ValueError",
          "evalue": "setting an array element with a sequence.",
          "output_type": "error",
          "traceback": [
            "\u001b[31m---------------------------------------------------------------------------\u001b[39m",
            "\u001b[31mTypeError\u001b[39m                                 Traceback (most recent call last)",
            "\u001b[36mFile \u001b[39m\u001b[32mc:\\Users\\vansh\\AppData\\Local\\Programs\\Python\\Python313\\Lib\\site-packages\\pandas\\core\\series.py:248\u001b[39m, in \u001b[36m_coerce_method.<locals>.wrapper\u001b[39m\u001b[34m(self)\u001b[39m\n\u001b[32m    247\u001b[39m     \u001b[38;5;28;01mreturn\u001b[39;00m converter(\u001b[38;5;28mself\u001b[39m.iloc[\u001b[32m0\u001b[39m])\n\u001b[32m--> \u001b[39m\u001b[32m248\u001b[39m \u001b[38;5;28;01mraise\u001b[39;00m \u001b[38;5;167;01mTypeError\u001b[39;00m(\u001b[33mf\u001b[39m\u001b[33m\"\u001b[39m\u001b[33mcannot convert the series to \u001b[39m\u001b[38;5;132;01m{\u001b[39;00mconverter\u001b[38;5;132;01m}\u001b[39;00m\u001b[33m\"\u001b[39m)\n",
            "\u001b[31mTypeError\u001b[39m: cannot convert the series to <class 'float'>",
            "\nThe above exception was the direct cause of the following exception:\n",
            "\u001b[31mValueError\u001b[39m                                Traceback (most recent call last)",
            "\u001b[32m~\\AppData\\Local\\Temp\\ipykernel_4364\\3706748150.py\u001b[39m in \u001b[36m?\u001b[39m\u001b[34m()\u001b[39m\n\u001b[32m      1\u001b[39m \u001b[38;5;66;03m# Train Decision Tree on TSFEL features\u001b[39;00m\n\u001b[32m      2\u001b[39m dt_tsfel = DecisionTreeClassifier(random_state=\u001b[32m42\u001b[39m)\n\u001b[32m----> \u001b[39m\u001b[32m3\u001b[39m dt_tsfel.fit(X_train_feats, y_train)\n\u001b[32m      4\u001b[39m \n\u001b[32m      5\u001b[39m \u001b[38;5;66;03m# Predictions\u001b[39;00m\n\u001b[32m      6\u001b[39m y_pred_tsfel = dt_tsfel.predict(X_test_feats)\n",
            "\u001b[32mc:\\Users\\vansh\\AppData\\Local\\Programs\\Python\\Python313\\Lib\\site-packages\\sklearn\\base.py\u001b[39m in \u001b[36m?\u001b[39m\u001b[34m(estimator, *args, **kwargs)\u001b[39m\n\u001b[32m   1361\u001b[39m                 skip_parameter_validation=(\n\u001b[32m   1362\u001b[39m                     prefer_skip_nested_validation \u001b[38;5;28;01mor\u001b[39;00m global_skip_validation\n\u001b[32m   1363\u001b[39m                 )\n\u001b[32m   1364\u001b[39m             ):\n\u001b[32m-> \u001b[39m\u001b[32m1365\u001b[39m                 \u001b[38;5;28;01mreturn\u001b[39;00m fit_method(estimator, *args, **kwargs)\n",
            "\u001b[32mc:\\Users\\vansh\\AppData\\Local\\Programs\\Python\\Python313\\Lib\\site-packages\\sklearn\\tree\\_classes.py\u001b[39m in \u001b[36m?\u001b[39m\u001b[34m(self, X, y, sample_weight, check_input)\u001b[39m\n\u001b[32m   1020\u001b[39m         self : DecisionTreeClassifier\n\u001b[32m   1021\u001b[39m             Fitted estimator.\n\u001b[32m   1022\u001b[39m         \"\"\"\n\u001b[32m   1023\u001b[39m \n\u001b[32m-> \u001b[39m\u001b[32m1024\u001b[39m         super()._fit(\n\u001b[32m   1025\u001b[39m             X,\n\u001b[32m   1026\u001b[39m             y,\n\u001b[32m   1027\u001b[39m             sample_weight=sample_weight,\n",
            "\u001b[32mc:\\Users\\vansh\\AppData\\Local\\Programs\\Python\\Python313\\Lib\\site-packages\\sklearn\\tree\\_classes.py\u001b[39m in \u001b[36m?\u001b[39m\u001b[34m(self, X, y, sample_weight, check_input, missing_values_in_feature_mask)\u001b[39m\n\u001b[32m    248\u001b[39m             check_X_params = dict(\n\u001b[32m    249\u001b[39m                 dtype=DTYPE, accept_sparse=\u001b[33m\"csc\"\u001b[39m, ensure_all_finite=\u001b[38;5;28;01mFalse\u001b[39;00m\n\u001b[32m    250\u001b[39m             )\n\u001b[32m    251\u001b[39m             check_y_params = dict(ensure_2d=\u001b[38;5;28;01mFalse\u001b[39;00m, dtype=\u001b[38;5;28;01mNone\u001b[39;00m)\n\u001b[32m--> \u001b[39m\u001b[32m252\u001b[39m             X, y = validate_data(\n\u001b[32m    253\u001b[39m                 self, X, y, validate_separately=(check_X_params, check_y_params)\n\u001b[32m    254\u001b[39m             )\n\u001b[32m    255\u001b[39m \n",
            "\u001b[32mc:\\Users\\vansh\\AppData\\Local\\Programs\\Python\\Python313\\Lib\\site-packages\\sklearn\\utils\\validation.py\u001b[39m in \u001b[36m?\u001b[39m\u001b[34m(_estimator, X, y, reset, validate_separately, skip_check_array, **check_params)\u001b[39m\n\u001b[32m   2962\u001b[39m             \u001b[38;5;66;03m# :(\u001b[39;00m\n\u001b[32m   2963\u001b[39m             check_X_params, check_y_params = validate_separately\n\u001b[32m   2964\u001b[39m             \u001b[38;5;28;01mif\u001b[39;00m \u001b[33m\"estimator\"\u001b[39m \u001b[38;5;28;01mnot\u001b[39;00m \u001b[38;5;28;01min\u001b[39;00m check_X_params:\n\u001b[32m   2965\u001b[39m                 check_X_params = {**default_check_params, **check_X_params}\n\u001b[32m-> \u001b[39m\u001b[32m2966\u001b[39m             X = check_array(X, input_name=\u001b[33m\"X\"\u001b[39m, **check_X_params)\n\u001b[32m   2967\u001b[39m             \u001b[38;5;28;01mif\u001b[39;00m \u001b[33m\"estimator\"\u001b[39m \u001b[38;5;28;01mnot\u001b[39;00m \u001b[38;5;28;01min\u001b[39;00m check_y_params:\n\u001b[32m   2968\u001b[39m                 check_y_params = {**default_check_params, **check_y_params}\n\u001b[32m   2969\u001b[39m             y = check_array(y, input_name=\u001b[33m\"y\"\u001b[39m, **check_y_params)\n",
            "\u001b[32mc:\\Users\\vansh\\AppData\\Local\\Programs\\Python\\Python313\\Lib\\site-packages\\sklearn\\utils\\validation.py\u001b[39m in \u001b[36m?\u001b[39m\u001b[34m(array, accept_sparse, accept_large_sparse, dtype, order, copy, force_writeable, force_all_finite, ensure_all_finite, ensure_non_negative, ensure_2d, allow_nd, ensure_min_samples, ensure_min_features, estimator, input_name)\u001b[39m\n\u001b[32m   1050\u001b[39m                         )\n\u001b[32m   1051\u001b[39m                     array = xp.astype(array, dtype, copy=\u001b[38;5;28;01mFalse\u001b[39;00m)\n\u001b[32m   1052\u001b[39m                 \u001b[38;5;28;01melse\u001b[39;00m:\n\u001b[32m   1053\u001b[39m                     array = _asarray_with_order(array, order=order, dtype=dtype, xp=xp)\n\u001b[32m-> \u001b[39m\u001b[32m1054\u001b[39m             \u001b[38;5;28;01mexcept\u001b[39;00m ComplexWarning \u001b[38;5;28;01mas\u001b[39;00m complex_warning:\n\u001b[32m   1055\u001b[39m                 raise ValueError(\n\u001b[32m   1056\u001b[39m                     \u001b[33m\"Complex data not supported\\n{}\\n\"\u001b[39m.format(array)\n\u001b[32m   1057\u001b[39m                 ) \u001b[38;5;28;01mfrom\u001b[39;00m complex_warning\n",
            "\u001b[32mc:\\Users\\vansh\\AppData\\Local\\Programs\\Python\\Python313\\Lib\\site-packages\\sklearn\\utils\\_array_api.py\u001b[39m in \u001b[36m?\u001b[39m\u001b[34m(array, dtype, order, copy, xp, device)\u001b[39m\n\u001b[32m    753\u001b[39m         \u001b[38;5;66;03m# Use NumPy API to support order\u001b[39;00m\n\u001b[32m    754\u001b[39m         \u001b[38;5;28;01mif\u001b[39;00m copy \u001b[38;5;28;01mis\u001b[39;00m \u001b[38;5;28;01mTrue\u001b[39;00m:\n\u001b[32m    755\u001b[39m             array = numpy.array(array, order=order, dtype=dtype)\n\u001b[32m    756\u001b[39m         \u001b[38;5;28;01melse\u001b[39;00m:\n\u001b[32m--> \u001b[39m\u001b[32m757\u001b[39m             array = numpy.asarray(array, order=order, dtype=dtype)\n\u001b[32m    758\u001b[39m \n\u001b[32m    759\u001b[39m         \u001b[38;5;66;03m# At this point array is a NumPy ndarray. We convert it to an array\u001b[39;00m\n\u001b[32m    760\u001b[39m         \u001b[38;5;66;03m# container that is consistent with the input's namespace.\u001b[39;00m\n",
            "\u001b[32mc:\\Users\\vansh\\AppData\\Local\\Programs\\Python\\Python313\\Lib\\site-packages\\pandas\\core\\generic.py\u001b[39m in \u001b[36m?\u001b[39m\u001b[34m(self, dtype, copy)\u001b[39m\n\u001b[32m   2164\u001b[39m             )\n\u001b[32m   2165\u001b[39m         values = self._values\n\u001b[32m   2166\u001b[39m         \u001b[38;5;28;01mif\u001b[39;00m copy \u001b[38;5;28;01mis\u001b[39;00m \u001b[38;5;28;01mNone\u001b[39;00m:\n\u001b[32m   2167\u001b[39m             \u001b[38;5;66;03m# Note: branch avoids `copy=None` for NumPy 1.x support\u001b[39;00m\n\u001b[32m-> \u001b[39m\u001b[32m2168\u001b[39m             arr = np.asarray(values, dtype=dtype)\n\u001b[32m   2169\u001b[39m         \u001b[38;5;28;01melse\u001b[39;00m:\n\u001b[32m   2170\u001b[39m             arr = np.array(values, dtype=dtype, copy=copy)\n\u001b[32m   2171\u001b[39m \n",
            "\u001b[31mValueError\u001b[39m: setting an array element with a sequence."
          ]
        }
      ],
      "source": [
        "# Train Decision Tree on TSFEL features\n",
        "dt_tsfel = DecisionTreeClassifier(random_state=42)\n",
        "dt_tsfel.fit(X_train_feats, y_train)\n",
        "\n",
        "# Predictions\n",
        "y_pred_tsfel = dt_tsfel.predict(X_test_feats)\n",
        "\n",
        "# Metrics\n",
        "print(\"Accuracy:\", accuracy_score(y_test, y_pred_tsfel))\n",
        "print(\"Precision:\", precision_score(y_test, y_pred_tsfel, average='weighted'))\n",
        "print(\"Recall:\", recall_score(y_test, y_pred_tsfel, average='weighted'))\n",
        "print(\"Confusion Matrix:\\n\", confusion_matrix(y_test, y_pred_tsfel))\n"
      ]
    },
    {
      "cell_type": "code",
      "execution_count": null,
      "metadata": {
        "colab": {
          "base_uri": "https://localhost:8080/",
          "height": 859
        },
        "id": "bHp0jKkyENtk",
        "outputId": "8af163c4-3615-4393-fb19-b1737f4412c3"
      },
      "outputs": [
        {
          "ename": "ValueError",
          "evalue": "setting an array element with a sequence.",
          "output_type": "error",
          "traceback": [
            "\u001b[31m---------------------------------------------------------------------------\u001b[39m",
            "\u001b[31mTypeError\u001b[39m                                 Traceback (most recent call last)",
            "\u001b[36mFile \u001b[39m\u001b[32mc:\\Users\\vansh\\AppData\\Local\\Programs\\Python\\Python313\\Lib\\site-packages\\pandas\\core\\series.py:248\u001b[39m, in \u001b[36m_coerce_method.<locals>.wrapper\u001b[39m\u001b[34m(self)\u001b[39m\n\u001b[32m    247\u001b[39m     \u001b[38;5;28;01mreturn\u001b[39;00m converter(\u001b[38;5;28mself\u001b[39m.iloc[\u001b[32m0\u001b[39m])\n\u001b[32m--> \u001b[39m\u001b[32m248\u001b[39m \u001b[38;5;28;01mraise\u001b[39;00m \u001b[38;5;167;01mTypeError\u001b[39;00m(\u001b[33mf\u001b[39m\u001b[33m\"\u001b[39m\u001b[33mcannot convert the series to \u001b[39m\u001b[38;5;132;01m{\u001b[39;00mconverter\u001b[38;5;132;01m}\u001b[39;00m\u001b[33m\"\u001b[39m)\n",
            "\u001b[31mTypeError\u001b[39m: cannot convert the series to <class 'float'>",
            "\nThe above exception was the direct cause of the following exception:\n",
            "\u001b[31mValueError\u001b[39m                                Traceback (most recent call last)",
            "\u001b[32m~\\AppData\\Local\\Temp\\ipykernel_4364\\51180015.py\u001b[39m in \u001b[36m?\u001b[39m\u001b[34m()\u001b[39m\n\u001b[32m      1\u001b[39m \u001b[38;5;66;03m# Confusion matrix, precision, recall\u001b[39;00m\n\u001b[32m      2\u001b[39m \u001b[38;5;28;01mfrom\u001b[39;00m sklearn.metrics \u001b[38;5;28;01mimport\u001b[39;00m classification_report\n\u001b[32m      3\u001b[39m \n\u001b[32m----> \u001b[39m\u001b[32m4\u001b[39m y_pred_tsfel = dt_tsfel.predict(X_test_feats)\n\u001b[32m      5\u001b[39m \n\u001b[32m      6\u001b[39m print(\u001b[33m\"Classification Report (TSFEL features):\\n\"\u001b[39m)\n\u001b[32m      7\u001b[39m print(classification_report(y_test, y_pred_tsfel))\n",
            "\u001b[32mc:\\Users\\vansh\\AppData\\Local\\Programs\\Python\\Python313\\Lib\\site-packages\\sklearn\\tree\\_classes.py\u001b[39m in \u001b[36m?\u001b[39m\u001b[34m(self, X, check_input)\u001b[39m\n\u001b[32m    526\u001b[39m         y : array-like of shape (n_samples,) \u001b[38;5;28;01mor\u001b[39;00m (n_samples, n_outputs)\n\u001b[32m    527\u001b[39m             The predicted classes, \u001b[38;5;28;01mor\u001b[39;00m the predict values.\n\u001b[32m    528\u001b[39m         \"\"\"\n\u001b[32m    529\u001b[39m         check_is_fitted(self)\n\u001b[32m--> \u001b[39m\u001b[32m530\u001b[39m         X = self._validate_X_predict(X, check_input)\n\u001b[32m    531\u001b[39m         proba = self.tree_.predict(X)\n\u001b[32m    532\u001b[39m         n_samples = X.shape[\u001b[32m0\u001b[39m]\n\u001b[32m    533\u001b[39m \n",
            "\u001b[32mc:\\Users\\vansh\\AppData\\Local\\Programs\\Python\\Python313\\Lib\\site-packages\\sklearn\\tree\\_classes.py\u001b[39m in \u001b[36m?\u001b[39m\u001b[34m(self, X, check_input)\u001b[39m\n\u001b[32m    485\u001b[39m             \u001b[38;5;28;01mif\u001b[39;00m self._support_missing_values(X):\n\u001b[32m    486\u001b[39m                 ensure_all_finite = \u001b[33m\"allow-nan\"\u001b[39m\n\u001b[32m    487\u001b[39m             \u001b[38;5;28;01melse\u001b[39;00m:\n\u001b[32m    488\u001b[39m                 ensure_all_finite = \u001b[38;5;28;01mTrue\u001b[39;00m\n\u001b[32m--> \u001b[39m\u001b[32m489\u001b[39m             X = validate_data(\n\u001b[32m    490\u001b[39m                 self,\n\u001b[32m    491\u001b[39m                 X,\n\u001b[32m    492\u001b[39m                 dtype=DTYPE,\n",
            "\u001b[32mc:\\Users\\vansh\\AppData\\Local\\Programs\\Python\\Python313\\Lib\\site-packages\\sklearn\\utils\\validation.py\u001b[39m in \u001b[36m?\u001b[39m\u001b[34m(_estimator, X, y, reset, validate_separately, skip_check_array, **check_params)\u001b[39m\n\u001b[32m   2950\u001b[39m             out = y\n\u001b[32m   2951\u001b[39m         \u001b[38;5;28;01melse\u001b[39;00m:\n\u001b[32m   2952\u001b[39m             out = X, y\n\u001b[32m   2953\u001b[39m     \u001b[38;5;28;01melif\u001b[39;00m \u001b[38;5;28;01mnot\u001b[39;00m no_val_X \u001b[38;5;28;01mand\u001b[39;00m no_val_y:\n\u001b[32m-> \u001b[39m\u001b[32m2954\u001b[39m         out = check_array(X, input_name=\u001b[33m\"X\"\u001b[39m, **check_params)\n\u001b[32m   2955\u001b[39m     \u001b[38;5;28;01melif\u001b[39;00m no_val_X \u001b[38;5;28;01mand\u001b[39;00m \u001b[38;5;28;01mnot\u001b[39;00m no_val_y:\n\u001b[32m   2956\u001b[39m         out = _check_y(y, **check_params)\n\u001b[32m   2957\u001b[39m     \u001b[38;5;28;01melse\u001b[39;00m:\n",
            "\u001b[32mc:\\Users\\vansh\\AppData\\Local\\Programs\\Python\\Python313\\Lib\\site-packages\\sklearn\\utils\\validation.py\u001b[39m in \u001b[36m?\u001b[39m\u001b[34m(array, accept_sparse, accept_large_sparse, dtype, order, copy, force_writeable, force_all_finite, ensure_all_finite, ensure_non_negative, ensure_2d, allow_nd, ensure_min_samples, ensure_min_features, estimator, input_name)\u001b[39m\n\u001b[32m   1050\u001b[39m                         )\n\u001b[32m   1051\u001b[39m                     array = xp.astype(array, dtype, copy=\u001b[38;5;28;01mFalse\u001b[39;00m)\n\u001b[32m   1052\u001b[39m                 \u001b[38;5;28;01melse\u001b[39;00m:\n\u001b[32m   1053\u001b[39m                     array = _asarray_with_order(array, order=order, dtype=dtype, xp=xp)\n\u001b[32m-> \u001b[39m\u001b[32m1054\u001b[39m             \u001b[38;5;28;01mexcept\u001b[39;00m ComplexWarning \u001b[38;5;28;01mas\u001b[39;00m complex_warning:\n\u001b[32m   1055\u001b[39m                 raise ValueError(\n\u001b[32m   1056\u001b[39m                     \u001b[33m\"Complex data not supported\\n{}\\n\"\u001b[39m.format(array)\n\u001b[32m   1057\u001b[39m                 ) \u001b[38;5;28;01mfrom\u001b[39;00m complex_warning\n",
            "\u001b[32mc:\\Users\\vansh\\AppData\\Local\\Programs\\Python\\Python313\\Lib\\site-packages\\sklearn\\utils\\_array_api.py\u001b[39m in \u001b[36m?\u001b[39m\u001b[34m(array, dtype, order, copy, xp, device)\u001b[39m\n\u001b[32m    753\u001b[39m         \u001b[38;5;66;03m# Use NumPy API to support order\u001b[39;00m\n\u001b[32m    754\u001b[39m         \u001b[38;5;28;01mif\u001b[39;00m copy \u001b[38;5;28;01mis\u001b[39;00m \u001b[38;5;28;01mTrue\u001b[39;00m:\n\u001b[32m    755\u001b[39m             array = numpy.array(array, order=order, dtype=dtype)\n\u001b[32m    756\u001b[39m         \u001b[38;5;28;01melse\u001b[39;00m:\n\u001b[32m--> \u001b[39m\u001b[32m757\u001b[39m             array = numpy.asarray(array, order=order, dtype=dtype)\n\u001b[32m    758\u001b[39m \n\u001b[32m    759\u001b[39m         \u001b[38;5;66;03m# At this point array is a NumPy ndarray. We convert it to an array\u001b[39;00m\n\u001b[32m    760\u001b[39m         \u001b[38;5;66;03m# container that is consistent with the input's namespace.\u001b[39;00m\n",
            "\u001b[32mc:\\Users\\vansh\\AppData\\Local\\Programs\\Python\\Python313\\Lib\\site-packages\\pandas\\core\\generic.py\u001b[39m in \u001b[36m?\u001b[39m\u001b[34m(self, dtype, copy)\u001b[39m\n\u001b[32m   2164\u001b[39m             )\n\u001b[32m   2165\u001b[39m         values = self._values\n\u001b[32m   2166\u001b[39m         \u001b[38;5;28;01mif\u001b[39;00m copy \u001b[38;5;28;01mis\u001b[39;00m \u001b[38;5;28;01mNone\u001b[39;00m:\n\u001b[32m   2167\u001b[39m             \u001b[38;5;66;03m# Note: branch avoids `copy=None` for NumPy 1.x support\u001b[39;00m\n\u001b[32m-> \u001b[39m\u001b[32m2168\u001b[39m             arr = np.asarray(values, dtype=dtype)\n\u001b[32m   2169\u001b[39m         \u001b[38;5;28;01melse\u001b[39;00m:\n\u001b[32m   2170\u001b[39m             arr = np.array(values, dtype=dtype, copy=copy)\n\u001b[32m   2171\u001b[39m \n",
            "\u001b[31mValueError\u001b[39m: setting an array element with a sequence."
          ]
        }
      ],
      "source": [
        "# Confusion matrix, precision, recall\n",
        "from sklearn.metrics import classification_report\n",
        "\n",
        "y_pred_tsfel = dt_tsfel.predict(X_test_feats)\n",
        "\n",
        "print(\"Classification Report (TSFEL features):\\n\")\n",
        "print(classification_report(y_test, y_pred_tsfel))\n",
        "\n",
        "print(\"Confusion Matrix (TSFEL features):\\n\")\n",
        "cm = confusion_matrix(y_test, y_pred_tsfel)\n",
        "plt.figure(figsize=(8,6))\n",
        "sns.heatmap(cm, annot=True, fmt='d', cmap='Blues')\n",
        "plt.xlabel('Predicted')\n",
        "plt.ylabel('Actual')\n",
        "plt.title('Confusion Matrix - TSFEL Features')\n",
        "plt.show()\n"
      ]
    },
    {
      "cell_type": "markdown",
      "metadata": {
        "id": "vbvnhlxaosK7"
      },
      "source": [
        "TSFEL featurization peformed good on class 1,2,3 but struggled on 4,5,6 overall accuracy was 0.58\n"
      ]
    },
    {
      "cell_type": "code",
      "execution_count": null,
      "metadata": {
        "id": "bxvO6alufogr"
      },
      "outputs": [],
      "source": [
        "def apply_pca(X_train, X_test, n_components=50):\n",
        "    \"\"\"\n",
        "    Apply PCA to dataset X and return reduced train/test features.\n",
        "    \"\"\"\n",
        "    pca = PCA(n_components=n_components, random_state=42)\n",
        "    X_train_reduced = pca.fit_transform(X_train)\n",
        "    X_test_reduced = pca.transform(X_test)\n",
        "    print(f\"Explained variance ratio (first {n_components} comps): {np.sum(pca.explained_variance_ratio_):.2f}\")\n",
        "    return X_train_reduced, X_test_reduced"
      ]
    },
    {
      "cell_type": "code",
      "execution_count": null,
      "metadata": {
        "id": "1mK7_tD2frih"
      },
      "outputs": [],
      "source": [
        "def train_and_evaluate(X_train, X_test, y_train, y_test, description=\"Model\"):\n",
        "    clf = DecisionTreeClassifier(random_state=42)\n",
        "    clf.fit(X_train, y_train)\n",
        "    y_pred = clf.predict(X_test)\n",
        "\n",
        "    acc = accuracy_score(y_test, y_pred)\n",
        "    prec = precision_score(y_test, y_pred, average='weighted', zero_division=0)\n",
        "    rec = recall_score(y_test, y_pred, average='weighted', zero_division=0)\n",
        "    cm = confusion_matrix(y_test, y_pred)\n",
        "\n",
        "    print(f\"\\n===== {description} =====\")\n",
        "    print(f\"Accuracy: {acc:.4f}\")\n",
        "    print(f\"Precision: {prec:.4f}\")\n",
        "    print(f\"Recall: {rec:.4f}\")\n",
        "    print(\"Confusion Matrix:\\n\", cm)\n",
        "    print(\"Classification Report:\\n\", classification_report(y_test, y_pred, zero_division=0))\n",
        "\n",
        "    return acc, prec, rec"
      ]
    },
    {
      "cell_type": "code",
      "execution_count": null,
      "metadata": {
        "id": "3V8aX_lDfrcF"
      },
      "outputs": [],
      "source": [
        "def depth_vs_accuracy(X_train, X_test, y_train, y_test, description=\"Model\"):\n",
        "    depths = range(2, 9)\n",
        "    scores = []\n",
        "\n",
        "    for d in depths:\n",
        "        clf = DecisionTreeClassifier(max_depth=d, random_state=42)\n",
        "        clf.fit(X_train, y_train)\n",
        "        y_pred = clf.predict(X_test)\n",
        "        scores.append(accuracy_score(y_test, y_pred))\n",
        "\n",
        "    plt.plot(depths, scores, marker='o', label=description)"
      ]
    },
    {
      "cell_type": "code",
      "execution_count": null,
      "metadata": {
        "colab": {
          "base_uri": "https://localhost:8080/",
          "height": 1000
        },
        "id": "rOasZOevfyJD",
        "outputId": "1eea46ef-7cc4-4dbb-8dac-23f3effcd517"
      },
      "outputs": [
        {
          "name": "stdout",
          "output_type": "stream",
          "text": [
            "Explained variance ratio (first 50 comps): 0.97\n",
            "\n",
            "===== Raw Accelerometer + PCA =====\n",
            "Accuracy: 0.7411\n",
            "Precision: 0.7437\n",
            "Recall: 0.7411\n",
            "Confusion Matrix:\n",
            " [[287 133  62   7   7   0]\n",
            " [111 282  49  24   5   0]\n",
            " [ 50  58 294   8  10   0]\n",
            " [  2  19   1 381  88   0]\n",
            " [  5  16   0  91 420   0]\n",
            " [ 15   0   0   1   1 520]]\n",
            "Classification Report:\n",
            "               precision    recall  f1-score   support\n",
            "\n",
            "           1       0.61      0.58      0.59       496\n",
            "           2       0.56      0.60      0.58       471\n",
            "           3       0.72      0.70      0.71       420\n",
            "           4       0.74      0.78      0.76       491\n",
            "           5       0.79      0.79      0.79       532\n",
            "           6       1.00      0.97      0.98       537\n",
            "\n",
            "    accuracy                           0.74      2947\n",
            "   macro avg       0.74      0.74      0.74      2947\n",
            "weighted avg       0.74      0.74      0.74      2947\n",
            "\n",
            "\n",
            "===== TSFEL Features =====\n",
            "Accuracy: 0.5762\n",
            "Precision: 0.5819\n",
            "Recall: 0.5762\n",
            "Confusion Matrix:\n",
            " [[423  45  28   0   0   0]\n",
            " [130 310  31   0   0   0]\n",
            " [ 45  96 279   0   0   0]\n",
            " [  0   0   0 185 194 112]\n",
            " [  0   0   0 179 236 117]\n",
            " [  0   0   0 165 107 265]]\n",
            "Classification Report:\n",
            "               precision    recall  f1-score   support\n",
            "\n",
            "           1       0.71      0.85      0.77       496\n",
            "           2       0.69      0.66      0.67       471\n",
            "           3       0.83      0.66      0.74       420\n",
            "           4       0.35      0.38      0.36       491\n",
            "           5       0.44      0.44      0.44       532\n",
            "           6       0.54      0.49      0.51       537\n",
            "\n",
            "    accuracy                           0.58      2947\n",
            "   macro avg       0.59      0.58      0.58      2947\n",
            "weighted avg       0.58      0.58      0.58      2947\n",
            "\n",
            "\n",
            "===== Provided Features =====\n",
            "Accuracy: 0.8622\n",
            "Precision: 0.8633\n",
            "Recall: 0.8622\n",
            "Confusion Matrix:\n",
            " [[456  24  16   0   0   0]\n",
            " [ 74 369  28   0   0   0]\n",
            " [ 19  53 348   0   0   0]\n",
            " [  0   0   0 374 117   0]\n",
            " [  0   0   0  75 457   0]\n",
            " [  0   0   0   0   0 537]]\n",
            "Classification Report:\n",
            "               precision    recall  f1-score   support\n",
            "\n",
            "           1       0.83      0.92      0.87       496\n",
            "           2       0.83      0.78      0.80       471\n",
            "           3       0.89      0.83      0.86       420\n",
            "           4       0.83      0.76      0.80       491\n",
            "           5       0.80      0.86      0.83       532\n",
            "           6       1.00      1.00      1.00       537\n",
            "\n",
            "    accuracy                           0.86      2947\n",
            "   macro avg       0.86      0.86      0.86      2947\n",
            "weighted avg       0.86      0.86      0.86      2947\n",
            "\n"
          ]
        },
        {
          "data": {
            "image/png": "[encoded data removed]",
            "text/plain": [
              "<Figure size 640x480 with 1 Axes>"
            ]
          },
          "metadata": {},
          "output_type": "display_data"
        }
      ],
      "source": [
        "# 1. Raw Accelerometer (PCA)\n",
        "X_train_raw_pca, X_test_raw_pca = apply_pca(X_train_raw, X_test_raw, n_components=50)\n",
        "train_and_evaluate(X_train_raw_pca, X_test_raw_pca, y_train, y_test, \"Raw Accelerometer + PCA\")\n",
        "depth_vs_accuracy(X_train_raw_pca, X_test_raw_pca, y_train, y_test, \"Raw Accelerometer + PCA\")\n",
        "\n",
        "# 2. TSFEL Features\n",
        "train_and_evaluate(X_train_feats, X_test_feats, y_train, y_test, \"TSFEL Features\")\n",
        "depth_vs_accuracy(X_train_feats, X_test_feats, y_train, y_test, \"TSFEL Features\")\n",
        "\n",
        "# 3. Provided Features\n",
        "train_and_evaluate(X_train, X_test, y_train, y_test, \"Provided Features\")\n",
        "depth_vs_accuracy(X_train, X_test, y_train, y_test, \"Provided Features\")\n",
        "\n",
        "# Final plot\n",
        "plt.xlabel(\"Tree Depth\")\n",
        "plt.ylabel(\"Test Accuracy\")\n",
        "plt.title(\"Decision Tree Depth vs Accuracy\")\n",
        "plt.legend()\n",
        "plt.show()"
      ]
    },
    {
      "cell_type": "markdown",
      "metadata": {
        "id": "NIhKubj0oS4u"
      },
      "source": [
        "Overall, the model performance varied significantly across the three feature sets. The provided features achieved the highest accuracy of 86%, with consistently strong precision and recall across all classes, indicating that they are highly discriminative and well-engineered for the task. The raw accelerometer data with PCA performed moderately, reaching 74% accuracy; it captured most of the variance and performed well on some classes, especially class 6, but showed confusion among similar classes. TSFEL features performed the worst, with only 58% accuracy, struggling particularly with classes 4, 5, and 6, suggesting that the handcrafted temporal and statistical features were insufficient to capture the full complexity of the motions. Overall, the results highlight the importance of carefully designed feature engineering in achieving robust classification performance.\n"
      ]
    }
  ],
  "metadata": {
    "colab": {
      "provenance": []
    },
    "kernelspec": {
      "display_name": "Python 3",
      "name": "python3"
    },
    "language_info": {
      "codemirror_mode": {
        "name": "ipython",
        "version": 3
      },
      "file_extension": ".py",
      "mimetype": "text/x-python",
      "name": "python",
      "nbconvert_exporter": "python",
      "pygments_lexer": "ipython3",
      "version": "3.13.7"
    }
  },
  "nbformat": 4,
  "nbformat_minor": 0
}
