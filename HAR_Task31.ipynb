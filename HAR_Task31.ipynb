{
  "nbformat": 4,
  "nbformat_minor": 0,
  "metadata": {
    "colab": {
      "provenance": []
    },
    "kernelspec": {
      "name": "python3",
      "display_name": "Python 3"
    },
    "language_info": {
      "name": "python"
    }
  },
  "cells": [
    {
      "cell_type": "code",
      "execution_count": 1,
      "metadata": {
        "id": "wALKorChh0W1",
        "colab": {
          "base_uri": "https://localhost:8080/"
        },
        "outputId": "4f30e1cc-cc0c-42e3-f845-cddd7f2a9564"
      },
      "outputs": [
        {
          "output_type": "stream",
          "name": "stdout",
          "text": [
            "Mounted at /content/drive\n"
          ]
        }
      ],
      "source": [
        "from google.colab import drive\n",
        "drive.mount('/content/drive')"
      ]
    },
    {
      "cell_type": "code",
      "source": [
        "!pip install tsfel"
      ],
      "metadata": {
        "id": "FcpOvbiqiIcm",
        "colab": {
          "base_uri": "https://localhost:8080/"
        },
        "outputId": "dba432d8-1242-4d86-f8c0-d645a94a5083"
      },
      "execution_count": 2,
      "outputs": [
        {
          "output_type": "stream",
          "name": "stdout",
          "text": [
            "Collecting tsfel\n",
            "  Downloading tsfel-0.2.0-py3-none-any.whl.metadata (9.4 kB)\n",
            "Requirement already satisfied: ipython>=7.4.0 in /usr/local/lib/python3.12/dist-packages (from tsfel) (7.34.0)\n",
            "Requirement already satisfied: numpy>=1.18.5 in /usr/local/lib/python3.12/dist-packages (from tsfel) (2.0.2)\n",
            "Requirement already satisfied: pandas>=1.5.3 in /usr/local/lib/python3.12/dist-packages (from tsfel) (2.2.2)\n",
            "Requirement already satisfied: PyWavelets>=1.4.1 in /usr/local/lib/python3.12/dist-packages (from tsfel) (1.9.0)\n",
            "Requirement already satisfied: requests>=2.31.0 in /usr/local/lib/python3.12/dist-packages (from tsfel) (2.32.4)\n",
            "Requirement already satisfied: scikit-learn>=0.21.3 in /usr/local/lib/python3.12/dist-packages (from tsfel) (1.6.1)\n",
            "Requirement already satisfied: scipy>=1.7.3 in /usr/local/lib/python3.12/dist-packages (from tsfel) (1.16.1)\n",
            "Requirement already satisfied: setuptools>=47.1.1 in /usr/local/lib/python3.12/dist-packages (from tsfel) (75.2.0)\n",
            "Requirement already satisfied: statsmodels>=0.12.0 in /usr/local/lib/python3.12/dist-packages (from tsfel) (0.14.5)\n",
            "Collecting jedi>=0.16 (from ipython>=7.4.0->tsfel)\n",
            "  Downloading jedi-0.19.2-py2.py3-none-any.whl.metadata (22 kB)\n",
            "Requirement already satisfied: decorator in /usr/local/lib/python3.12/dist-packages (from ipython>=7.4.0->tsfel) (4.4.2)\n",
            "Requirement already satisfied: pickleshare in /usr/local/lib/python3.12/dist-packages (from ipython>=7.4.0->tsfel) (0.7.5)\n",
            "Requirement already satisfied: traitlets>=4.2 in /usr/local/lib/python3.12/dist-packages (from ipython>=7.4.0->tsfel) (5.7.1)\n",
            "Requirement already satisfied: prompt-toolkit!=3.0.0,!=3.0.1,<3.1.0,>=2.0.0 in /usr/local/lib/python3.12/dist-packages (from ipython>=7.4.0->tsfel) (3.0.51)\n",
            "Requirement already satisfied: pygments in /usr/local/lib/python3.12/dist-packages (from ipython>=7.4.0->tsfel) (2.19.2)\n",
            "Requirement already satisfied: backcall in /usr/local/lib/python3.12/dist-packages (from ipython>=7.4.0->tsfel) (0.2.0)\n",
            "Requirement already satisfied: matplotlib-inline in /usr/local/lib/python3.12/dist-packages (from ipython>=7.4.0->tsfel) (0.1.7)\n",
            "Requirement already satisfied: pexpect>4.3 in /usr/local/lib/python3.12/dist-packages (from ipython>=7.4.0->tsfel) (4.9.0)\n",
            "Requirement already satisfied: python-dateutil>=2.8.2 in /usr/local/lib/python3.12/dist-packages (from pandas>=1.5.3->tsfel) (2.9.0.post0)\n",
            "Requirement already satisfied: pytz>=2020.1 in /usr/local/lib/python3.12/dist-packages (from pandas>=1.5.3->tsfel) (2025.2)\n",
            "Requirement already satisfied: tzdata>=2022.7 in /usr/local/lib/python3.12/dist-packages (from pandas>=1.5.3->tsfel) (2025.2)\n",
            "Requirement already satisfied: charset_normalizer<4,>=2 in /usr/local/lib/python3.12/dist-packages (from requests>=2.31.0->tsfel) (3.4.3)\n",
            "Requirement already satisfied: idna<4,>=2.5 in /usr/local/lib/python3.12/dist-packages (from requests>=2.31.0->tsfel) (3.10)\n",
            "Requirement already satisfied: urllib3<3,>=1.21.1 in /usr/local/lib/python3.12/dist-packages (from requests>=2.31.0->tsfel) (2.5.0)\n",
            "Requirement already satisfied: certifi>=2017.4.17 in /usr/local/lib/python3.12/dist-packages (from requests>=2.31.0->tsfel) (2025.8.3)\n",
            "Requirement already satisfied: joblib>=1.2.0 in /usr/local/lib/python3.12/dist-packages (from scikit-learn>=0.21.3->tsfel) (1.5.1)\n",
            "Requirement already satisfied: threadpoolctl>=3.1.0 in /usr/local/lib/python3.12/dist-packages (from scikit-learn>=0.21.3->tsfel) (3.6.0)\n",
            "Requirement already satisfied: patsy>=0.5.6 in /usr/local/lib/python3.12/dist-packages (from statsmodels>=0.12.0->tsfel) (1.0.1)\n",
            "Requirement already satisfied: packaging>=21.3 in /usr/local/lib/python3.12/dist-packages (from statsmodels>=0.12.0->tsfel) (25.0)\n",
            "Requirement already satisfied: parso<0.9.0,>=0.8.4 in /usr/local/lib/python3.12/dist-packages (from jedi>=0.16->ipython>=7.4.0->tsfel) (0.8.5)\n",
            "Requirement already satisfied: ptyprocess>=0.5 in /usr/local/lib/python3.12/dist-packages (from pexpect>4.3->ipython>=7.4.0->tsfel) (0.7.0)\n",
            "Requirement already satisfied: wcwidth in /usr/local/lib/python3.12/dist-packages (from prompt-toolkit!=3.0.0,!=3.0.1,<3.1.0,>=2.0.0->ipython>=7.4.0->tsfel) (0.2.13)\n",
            "Requirement already satisfied: six>=1.5 in /usr/local/lib/python3.12/dist-packages (from python-dateutil>=2.8.2->pandas>=1.5.3->tsfel) (1.17.0)\n",
            "Downloading tsfel-0.2.0-py3-none-any.whl (63 kB)\n",
            "\u001b[2K   \u001b[90m━━━━━━━━━━━━━━━━━━━━━━━━━━━━━━━━━━━━━━━━\u001b[0m \u001b[32m63.4/63.4 kB\u001b[0m \u001b[31m2.5 MB/s\u001b[0m eta \u001b[36m0:00:00\u001b[0m\n",
            "\u001b[?25hDownloading jedi-0.19.2-py2.py3-none-any.whl (1.6 MB)\n",
            "\u001b[2K   \u001b[90m━━━━━━━━━━━━━━━━━━━━━━━━━━━━━━━━━━━━━━━━\u001b[0m \u001b[32m1.6/1.6 MB\u001b[0m \u001b[31m25.7 MB/s\u001b[0m eta \u001b[36m0:00:00\u001b[0m\n",
            "\u001b[?25hInstalling collected packages: jedi, tsfel\n",
            "Successfully installed jedi-0.19.2 tsfel-0.2.0\n"
          ]
        }
      ]
    },
    {
      "cell_type": "markdown",
      "source": [],
      "metadata": {
        "id": "HJsjLjLYonQB"
      }
    },
    {
      "cell_type": "code",
      "source": [
        "import numpy as np\n",
        "import pandas as pd\n",
        "import matplotlib.pyplot as plt\n",
        "import seaborn as sns\n",
        "\n",
        "from sklearn.tree import DecisionTreeClassifier\n",
        "from sklearn.metrics import accuracy_score, precision_score, recall_score, confusion_matrix\n",
        "from sklearn.preprocessing import StandardScaler\n",
        "\n",
        "import tsfel"
      ],
      "metadata": {
        "id": "FQ3ObxZXiRec"
      },
      "execution_count": 3,
      "outputs": []
    },
    {
      "cell_type": "code",
      "source": [
        "# Load provided features\n",
        "X_train = pd.read_csv('/content/drive/MyDrive/UCL/train/X_train.txt', delim_whitespace=True, header=None)\n",
        "y_train = pd.read_csv('/content/drive/MyDrive/UCL/train/y_train.txt', header=None).values.ravel()\n",
        "X_test = pd.read_csv('/content/drive/MyDrive/UCL/test/X_test.txt', delim_whitespace=True, header=None)\n",
        "y_test = pd.read_csv('/content/drive/MyDrive/UCL/test/y_test.txt', header=None).values.ravel()"
      ],
      "metadata": {
        "id": "ysgUgS87iT2G",
        "colab": {
          "base_uri": "https://localhost:8080/"
        },
        "outputId": "87f7a3e1-ce13-4d91-e869-a3d453305aa6"
      },
      "execution_count": 4,
      "outputs": [
        {
          "output_type": "stream",
          "name": "stderr",
          "text": [
            "/tmp/ipython-input-270637783.py:2: FutureWarning: The 'delim_whitespace' keyword in pd.read_csv is deprecated and will be removed in a future version. Use ``sep='\\s+'`` instead\n",
            "  X_train = pd.read_csv('/content/drive/MyDrive/UCL/train/X_train.txt', delim_whitespace=True, header=None)\n",
            "/tmp/ipython-input-270637783.py:4: FutureWarning: The 'delim_whitespace' keyword in pd.read_csv is deprecated and will be removed in a future version. Use ``sep='\\s+'`` instead\n",
            "  X_test = pd.read_csv('/content/drive/MyDrive/UCL/test/X_test.txt', delim_whitespace=True, header=None)\n"
          ]
        }
      ]
    },
    {
      "cell_type": "code",
      "source": [
        "# Load activity labels\n",
        "activity_labels = pd.read_csv('/content/drive/MyDrive/UCL/activity_labels.txt',\n",
        "                              sep='\\s+', header=None, index_col=0)[1].to_dict()\n",
        "\n",
        "print(activity_labels)\n"
      ],
      "metadata": {
        "id": "MhGAUN1DiWZE",
        "colab": {
          "base_uri": "https://localhost:8080/"
        },
        "outputId": "cf8f68e0-b662-460c-a6eb-49f04ee30e27"
      },
      "execution_count": 5,
      "outputs": [
        {
          "output_type": "stream",
          "name": "stderr",
          "text": [
            "<>:3: SyntaxWarning: invalid escape sequence '\\s'\n",
            "<>:3: SyntaxWarning: invalid escape sequence '\\s'\n",
            "/tmp/ipython-input-903172261.py:3: SyntaxWarning: invalid escape sequence '\\s'\n",
            "  sep='\\s+', header=None, index_col=0)[1].to_dict()\n"
          ]
        },
        {
          "output_type": "stream",
          "name": "stdout",
          "text": [
            "{1: 'WALKING', 2: 'WALKING_UPSTAIRS', 3: 'WALKING_DOWNSTAIRS', 4: 'SITTING', 5: 'STANDING', 6: 'LAYING'}\n"
          ]
        }
      ]
    },
    {
      "cell_type": "code",
      "source": [
        "data_task_3=pd.read_csv('/content/drive/MyDrive/testcd.csv', delim_whitespace=True, header=None)"
      ],
      "metadata": {
        "id": "JQCxPWj6ictz",
        "colab": {
          "base_uri": "https://localhost:8080/"
        },
        "outputId": "ec440800-303c-4929-8a03-de1ecf844354"
      },
      "execution_count": 6,
      "outputs": [
        {
          "output_type": "stream",
          "name": "stderr",
          "text": [
            "/tmp/ipython-input-2353501974.py:1: FutureWarning: The 'delim_whitespace' keyword in pd.read_csv is deprecated and will be removed in a future version. Use ``sep='\\s+'`` instead\n",
            "  data_task_3=pd.read_csv('/content/drive/MyDrive/testcd.csv', delim_whitespace=True, header=None)\n"
          ]
        }
      ]
    },
    {
      "cell_type": "code",
      "source": [
        "# Separate the single column into multiple columns based on the comma delimiter\n",
        "data_task_3_split = data_task_3[0].str.split(',', expand=True)\n",
        "\n",
        "# The first row is the header, so we can use it for column names\n",
        "data_task_3_split.columns = data_task_3_split.iloc[0]\n",
        "\n",
        "# Drop the header row\n",
        "data_task_3_split = data_task_3_split[1:].reset_index(drop=True)\n",
        "\n",
        "# Convert columns to appropriate data types (assuming numerical features and integer labels)\n",
        "data_task_3_split[['ax', 'ay', 'az']] = data_task_3_split[['ax', 'ay', 'az']].astype(float)\n",
        "data_task_3_split['label'] = data_task_3_split['label'].astype(int)\n",
        "\n",
        "# Separate features (X) and label (y)\n",
        "X_task_3 = data_task_3_split[['ax', 'ay', 'az']]\n",
        "y_task_3 = data_task_3_split['label']\n",
        "\n",
        "print(\"X_task_3 shape:\", X_task_3.shape)\n",
        "print(\"y_task_3 shape:\", y_task_3.shape)\n",
        "display(X_task_3.head())\n",
        "display(y_task_3.head())"
      ],
      "metadata": {
        "id": "jaebKDttie7g",
        "colab": {
          "base_uri": "https://localhost:8080/",
          "height": 464
        },
        "outputId": "12d5ca25-6858-4a8c-dcc8-1931ae160525"
      },
      "execution_count": 7,
      "outputs": [
        {
          "output_type": "stream",
          "name": "stdout",
          "text": [
            "X_task_3 shape: (3000, 3)\n",
            "y_task_3 shape: (3000,)\n"
          ]
        },
        {
          "output_type": "display_data",
          "data": {
            "text/plain": [
              "0       ax       ay       az\n",
              "0  0.03105  0.06670 -0.05195\n",
              "1  0.17120  1.38315 -3.07720\n",
              "2 -0.12805  0.01970 -0.07920\n",
              "3  0.42745  2.68690 -3.78635\n",
              "4 -0.22400  0.13810 -0.34165"
            ],
            "text/html": [
              "\n",
              "  <div id=\"df-5c5d86e9-4772-49f6-94cf-f288817a12a1\" class=\"colab-df-container\">\n",
              "    <div>\n",
              "<style scoped>\n",
              "    .dataframe tbody tr th:only-of-type {\n",
              "        vertical-align: middle;\n",
              "    }\n",
              "\n",
              "    .dataframe tbody tr th {\n",
              "        vertical-align: top;\n",
              "    }\n",
              "\n",
              "    .dataframe thead th {\n",
              "        text-align: right;\n",
              "    }\n",
              "</style>\n",
              "<table border=\"1\" class=\"dataframe\">\n",
              "  <thead>\n",
              "    <tr style=\"text-align: right;\">\n",
              "      <th></th>\n",
              "      <th>ax</th>\n",
              "      <th>ay</th>\n",
              "      <th>az</th>\n",
              "    </tr>\n",
              "  </thead>\n",
              "  <tbody>\n",
              "    <tr>\n",
              "      <th>0</th>\n",
              "      <td>0.03105</td>\n",
              "      <td>0.06670</td>\n",
              "      <td>-0.05195</td>\n",
              "    </tr>\n",
              "    <tr>\n",
              "      <th>1</th>\n",
              "      <td>0.17120</td>\n",
              "      <td>1.38315</td>\n",
              "      <td>-3.07720</td>\n",
              "    </tr>\n",
              "    <tr>\n",
              "      <th>2</th>\n",
              "      <td>-0.12805</td>\n",
              "      <td>0.01970</td>\n",
              "      <td>-0.07920</td>\n",
              "    </tr>\n",
              "    <tr>\n",
              "      <th>3</th>\n",
              "      <td>0.42745</td>\n",
              "      <td>2.68690</td>\n",
              "      <td>-3.78635</td>\n",
              "    </tr>\n",
              "    <tr>\n",
              "      <th>4</th>\n",
              "      <td>-0.22400</td>\n",
              "      <td>0.13810</td>\n",
              "      <td>-0.34165</td>\n",
              "    </tr>\n",
              "  </tbody>\n",
              "</table>\n",
              "</div>\n",
              "    <div class=\"colab-df-buttons\">\n",
              "\n",
              "  <div class=\"colab-df-container\">\n",
              "    <button class=\"colab-df-convert\" onclick=\"convertToInteractive('df-5c5d86e9-4772-49f6-94cf-f288817a12a1')\"\n",
              "            title=\"Convert this dataframe to an interactive table.\"\n",
              "            style=\"display:none;\">\n",
              "\n",
              "  <svg xmlns=\"http://www.w3.org/2000/svg\" height=\"24px\" viewBox=\"0 -960 960 960\">\n",
              "    <path d=\"M120-120v-720h720v720H120Zm60-500h600v-160H180v160Zm220 220h160v-160H400v160Zm0 220h160v-160H400v160ZM180-400h160v-160H180v160Zm440 0h160v-160H620v160ZM180-180h160v-160H180v160Zm440 0h160v-160H620v160Z\"/>\n",
              "  </svg>\n",
              "    </button>\n",
              "\n",
              "  <style>\n",
              "    .colab-df-container {\n",
              "      display:flex;\n",
              "      gap: 12px;\n",
              "    }\n",
              "\n",
              "    .colab-df-convert {\n",
              "      background-color: #E8F0FE;\n",
              "      border: none;\n",
              "      border-radius: 50%;\n",
              "      cursor: pointer;\n",
              "      display: none;\n",
              "      fill: #1967D2;\n",
              "      height: 32px;\n",
              "      padding: 0 0 0 0;\n",
              "      width: 32px;\n",
              "    }\n",
              "\n",
              "    .colab-df-convert:hover {\n",
              "      background-color: #E2EBFA;\n",
              "      box-shadow: 0px 1px 2px rgba(60, 64, 67, 0.3), 0px 1px 3px 1px rgba(60, 64, 67, 0.15);\n",
              "      fill: #174EA6;\n",
              "    }\n",
              "\n",
              "    .colab-df-buttons div {\n",
              "      margin-bottom: 4px;\n",
              "    }\n",
              "\n",
              "    [theme=dark] .colab-df-convert {\n",
              "      background-color: #3B4455;\n",
              "      fill: #D2E3FC;\n",
              "    }\n",
              "\n",
              "    [theme=dark] .colab-df-convert:hover {\n",
              "      background-color: #434B5C;\n",
              "      box-shadow: 0px 1px 3px 1px rgba(0, 0, 0, 0.15);\n",
              "      filter: drop-shadow(0px 1px 2px rgba(0, 0, 0, 0.3));\n",
              "      fill: #FFFFFF;\n",
              "    }\n",
              "  </style>\n",
              "\n",
              "    <script>\n",
              "      const buttonEl =\n",
              "        document.querySelector('#df-5c5d86e9-4772-49f6-94cf-f288817a12a1 button.colab-df-convert');\n",
              "      buttonEl.style.display =\n",
              "        google.colab.kernel.accessAllowed ? 'block' : 'none';\n",
              "\n",
              "      async function convertToInteractive(key) {\n",
              "        const element = document.querySelector('#df-5c5d86e9-4772-49f6-94cf-f288817a12a1');\n",
              "        const dataTable =\n",
              "          await google.colab.kernel.invokeFunction('convertToInteractive',\n",
              "                                                    [key], {});\n",
              "        if (!dataTable) return;\n",
              "\n",
              "        const docLinkHtml = 'Like what you see? Visit the ' +\n",
              "          '<a target=\"_blank\" href=https://colab.research.google.com/notebooks/data_table.ipynb>data table notebook</a>'\n",
              "          + ' to learn more about interactive tables.';\n",
              "        element.innerHTML = '';\n",
              "        dataTable['output_type'] = 'display_data';\n",
              "        await google.colab.output.renderOutput(dataTable, element);\n",
              "        const docLink = document.createElement('div');\n",
              "        docLink.innerHTML = docLinkHtml;\n",
              "        element.appendChild(docLink);\n",
              "      }\n",
              "    </script>\n",
              "  </div>\n",
              "\n",
              "\n",
              "    <div id=\"df-c4ea49bf-079d-4509-86d4-8d6b5a6c56bf\">\n",
              "      <button class=\"colab-df-quickchart\" onclick=\"quickchart('df-c4ea49bf-079d-4509-86d4-8d6b5a6c56bf')\"\n",
              "                title=\"Suggest charts\"\n",
              "                style=\"display:none;\">\n",
              "\n",
              "<svg xmlns=\"http://www.w3.org/2000/svg\" height=\"24px\"viewBox=\"0 0 24 24\"\n",
              "     width=\"24px\">\n",
              "    <g>\n",
              "        <path d=\"M19 3H5c-1.1 0-2 .9-2 2v14c0 1.1.9 2 2 2h14c1.1 0 2-.9 2-2V5c0-1.1-.9-2-2-2zM9 17H7v-7h2v7zm4 0h-2V7h2v10zm4 0h-2v-4h2v4z\"/>\n",
              "    </g>\n",
              "</svg>\n",
              "      </button>\n",
              "\n",
              "<style>\n",
              "  .colab-df-quickchart {\n",
              "      --bg-color: #E8F0FE;\n",
              "      --fill-color: #1967D2;\n",
              "      --hover-bg-color: #E2EBFA;\n",
              "      --hover-fill-color: #174EA6;\n",
              "      --disabled-fill-color: #AAA;\n",
              "      --disabled-bg-color: #DDD;\n",
              "  }\n",
              "\n",
              "  [theme=dark] .colab-df-quickchart {\n",
              "      --bg-color: #3B4455;\n",
              "      --fill-color: #D2E3FC;\n",
              "      --hover-bg-color: #434B5C;\n",
              "      --hover-fill-color: #FFFFFF;\n",
              "      --disabled-bg-color: #3B4455;\n",
              "      --disabled-fill-color: #666;\n",
              "  }\n",
              "\n",
              "  .colab-df-quickchart {\n",
              "    background-color: var(--bg-color);\n",
              "    border: none;\n",
              "    border-radius: 50%;\n",
              "    cursor: pointer;\n",
              "    display: none;\n",
              "    fill: var(--fill-color);\n",
              "    height: 32px;\n",
              "    padding: 0;\n",
              "    width: 32px;\n",
              "  }\n",
              "\n",
              "  .colab-df-quickchart:hover {\n",
              "    background-color: var(--hover-bg-color);\n",
              "    box-shadow: 0 1px 2px rgba(60, 64, 67, 0.3), 0 1px 3px 1px rgba(60, 64, 67, 0.15);\n",
              "    fill: var(--button-hover-fill-color);\n",
              "  }\n",
              "\n",
              "  .colab-df-quickchart-complete:disabled,\n",
              "  .colab-df-quickchart-complete:disabled:hover {\n",
              "    background-color: var(--disabled-bg-color);\n",
              "    fill: var(--disabled-fill-color);\n",
              "    box-shadow: none;\n",
              "  }\n",
              "\n",
              "  .colab-df-spinner {\n",
              "    border: 2px solid var(--fill-color);\n",
              "    border-color: transparent;\n",
              "    border-bottom-color: var(--fill-color);\n",
              "    animation:\n",
              "      spin 1s steps(1) infinite;\n",
              "  }\n",
              "\n",
              "  @keyframes spin {\n",
              "    0% {\n",
              "      border-color: transparent;\n",
              "      border-bottom-color: var(--fill-color);\n",
              "      border-left-color: var(--fill-color);\n",
              "    }\n",
              "    20% {\n",
              "      border-color: transparent;\n",
              "      border-left-color: var(--fill-color);\n",
              "      border-top-color: var(--fill-color);\n",
              "    }\n",
              "    30% {\n",
              "      border-color: transparent;\n",
              "      border-left-color: var(--fill-color);\n",
              "      border-top-color: var(--fill-color);\n",
              "      border-right-color: var(--fill-color);\n",
              "    }\n",
              "    40% {\n",
              "      border-color: transparent;\n",
              "      border-right-color: var(--fill-color);\n",
              "      border-top-color: var(--fill-color);\n",
              "    }\n",
              "    60% {\n",
              "      border-color: transparent;\n",
              "      border-right-color: var(--fill-color);\n",
              "    }\n",
              "    80% {\n",
              "      border-color: transparent;\n",
              "      border-right-color: var(--fill-color);\n",
              "      border-bottom-color: var(--fill-color);\n",
              "    }\n",
              "    90% {\n",
              "      border-color: transparent;\n",
              "      border-bottom-color: var(--fill-color);\n",
              "    }\n",
              "  }\n",
              "</style>\n",
              "\n",
              "      <script>\n",
              "        async function quickchart(key) {\n",
              "          const quickchartButtonEl =\n",
              "            document.querySelector('#' + key + ' button');\n",
              "          quickchartButtonEl.disabled = true;  // To prevent multiple clicks.\n",
              "          quickchartButtonEl.classList.add('colab-df-spinner');\n",
              "          try {\n",
              "            const charts = await google.colab.kernel.invokeFunction(\n",
              "                'suggestCharts', [key], {});\n",
              "          } catch (error) {\n",
              "            console.error('Error during call to suggestCharts:', error);\n",
              "          }\n",
              "          quickchartButtonEl.classList.remove('colab-df-spinner');\n",
              "          quickchartButtonEl.classList.add('colab-df-quickchart-complete');\n",
              "        }\n",
              "        (() => {\n",
              "          let quickchartButtonEl =\n",
              "            document.querySelector('#df-c4ea49bf-079d-4509-86d4-8d6b5a6c56bf button');\n",
              "          quickchartButtonEl.style.display =\n",
              "            google.colab.kernel.accessAllowed ? 'block' : 'none';\n",
              "        })();\n",
              "      </script>\n",
              "    </div>\n",
              "\n",
              "    </div>\n",
              "  </div>\n"
            ],
            "application/vnd.google.colaboratory.intrinsic+json": {
              "type": "dataframe",
              "summary": "{\n  \"name\": \"display(y_task_3\",\n  \"rows\": 5,\n  \"fields\": [\n    {\n      \"column\": \"ax\",\n      \"properties\": {\n        \"dtype\": \"number\",\n        \"std\": 0.25697370633977323,\n        \"min\": -0.224,\n        \"max\": 0.42745,\n        \"num_unique_values\": 5,\n        \"samples\": [\n          0.1712,\n          -0.224,\n          -0.12805\n        ],\n        \"semantic_type\": \"\",\n        \"description\": \"\"\n      }\n    },\n    {\n      \"column\": \"ay\",\n      \"properties\": {\n        \"dtype\": \"number\",\n        \"std\": 1.1691676721069566,\n        \"min\": 0.0197,\n        \"max\": 2.6869,\n        \"num_unique_values\": 5,\n        \"samples\": [\n          1.38315,\n          0.1381,\n          0.0197\n        ],\n        \"semantic_type\": \"\",\n        \"description\": \"\"\n      }\n    },\n    {\n      \"column\": \"az\",\n      \"properties\": {\n        \"dtype\": \"number\",\n        \"std\": 1.8143108928047587,\n        \"min\": -3.78635,\n        \"max\": -0.05195,\n        \"num_unique_values\": 5,\n        \"samples\": [\n          -3.0772,\n          -0.34165,\n          -0.0792\n        ],\n        \"semantic_type\": \"\",\n        \"description\": \"\"\n      }\n    }\n  ]\n}"
            }
          },
          "metadata": {}
        },
        {
          "output_type": "display_data",
          "data": {
            "text/plain": [
              "0    4\n",
              "1    3\n",
              "2    4\n",
              "3    1\n",
              "4    6\n",
              "Name: label, dtype: int64"
            ],
            "text/html": [
              "<div>\n",
              "<style scoped>\n",
              "    .dataframe tbody tr th:only-of-type {\n",
              "        vertical-align: middle;\n",
              "    }\n",
              "\n",
              "    .dataframe tbody tr th {\n",
              "        vertical-align: top;\n",
              "    }\n",
              "\n",
              "    .dataframe thead th {\n",
              "        text-align: right;\n",
              "    }\n",
              "</style>\n",
              "<table border=\"1\" class=\"dataframe\">\n",
              "  <thead>\n",
              "    <tr style=\"text-align: right;\">\n",
              "      <th></th>\n",
              "      <th>label</th>\n",
              "    </tr>\n",
              "  </thead>\n",
              "  <tbody>\n",
              "    <tr>\n",
              "      <th>0</th>\n",
              "      <td>4</td>\n",
              "    </tr>\n",
              "    <tr>\n",
              "      <th>1</th>\n",
              "      <td>3</td>\n",
              "    </tr>\n",
              "    <tr>\n",
              "      <th>2</th>\n",
              "      <td>4</td>\n",
              "    </tr>\n",
              "    <tr>\n",
              "      <th>3</th>\n",
              "      <td>1</td>\n",
              "    </tr>\n",
              "    <tr>\n",
              "      <th>4</th>\n",
              "      <td>6</td>\n",
              "    </tr>\n",
              "  </tbody>\n",
              "</table>\n",
              "</div><br><label><b>dtype:</b> int64</label>"
            ]
          },
          "metadata": {}
        }
      ]
    },
    {
      "cell_type": "code",
      "source": [
        "X_task_3=X_task_3.to_numpy()\n",
        "y_task_3=y_task_3.to_numpy()\n",
        "y_task_3=y_task_3.reshape(-1,1)"
      ],
      "metadata": {
        "id": "3laekN-Tih9h"
      },
      "execution_count": 8,
      "outputs": []
    },
    {
      "cell_type": "code",
      "source": [
        "# === Imports ===\n",
        "import numpy as np\n",
        "from sklearn.model_selection import train_test_split\n",
        "from sklearn.decomposition import PCA\n",
        "from sklearn.tree import DecisionTreeClassifier\n",
        "from sklearn.metrics import (\n",
        "    accuracy_score, precision_score, recall_score,\n",
        "    confusion_matrix, classification_report\n",
        ")\n",
        "\n",
        "\n",
        "X_task_3 = np.asarray(X_task_3, dtype=float)               # (n_samples, 3)\n",
        "y_task_3 = np.asarray(y_task_3).reshape(-1).astype(int)    # (n_samples,)\n",
        "\n",
        "# === Split (use stratify so class ratios stay stable) ===\n",
        "X_train, X_test, y_train, y_test = train_test_split(\n",
        "    X_task_3, y_task_3, test_size=0.30, random_state=42, stratify=y_task_3\n",
        ")\n",
        "\n",
        "# === Safe PCA helper (caps n_components to n_features) ===\n",
        "def apply_pca(X_train, X_test, n_components=2):\n",
        "    n_features = X_train.shape[1]\n",
        "    k = min(n_components, n_features)\n",
        "    pca = PCA(n_components=k, random_state=42)\n",
        "    X_train_reduced = pca.fit_transform(X_train)\n",
        "    X_test_reduced = pca.transform(X_test)\n",
        "    print(f\"Using {k}/{n_features} components. \"\n",
        "          f\"Explained variance: {pca.explained_variance_ratio_.sum():.2f}\")\n",
        "    return X_train_reduced, X_test_reduced, pca\n",
        "\n",
        "# === Training & evaluation ===\n",
        "def train_and_evaluate(X_train, X_test, y_train, y_test, description=\"Model\"):\n",
        "    clf = DecisionTreeClassifier(random_state=42)\n",
        "    clf.fit(X_train, y_train)\n",
        "    y_pred = clf.predict(X_test)\n",
        "\n",
        "    acc  = accuracy_score(y_test, y_pred)\n",
        "    prec = precision_score(y_test, y_pred, average='weighted', zero_division=0)\n",
        "    rec  = recall_score(y_test, y_pred, average='weighted', zero_division=0)\n",
        "    cm   = confusion_matrix(y_test, y_pred)\n",
        "\n",
        "    print(f\"\\n===== {description} =====\")\n",
        "    print(f\"Accuracy : {acc:.4f}\")\n",
        "    print(f\"Precision: {prec:.4f}\")\n",
        "    print(f\"Recall   : {rec:.4f}\")\n",
        "    print(\"Confusion Matrix:\\n\", cm)\n",
        "    print(\"Classification Report:\\n\",\n",
        "          classification_report(y_test, y_pred, zero_division=0))\n",
        "    return acc, prec, rec\n",
        "\n",
        "\n",
        "\n",
        "# === Depth vs Accuracy with Plotting ===\n",
        "def depth_vs_accuracy(X_train, X_test, y_train, y_test, description=\"\"):\n",
        "    depths = list(range(1, 31))\n",
        "    train_accs, test_accs = [], []\n",
        "\n",
        "    for d in depths:\n",
        "        clf = DecisionTreeClassifier(max_depth=d, random_state=42)\n",
        "        clf.fit(X_train, y_train)\n",
        "        train_accs.append(clf.score(X_train, y_train))\n",
        "        test_accs.append(clf.score(X_test, y_test))\n",
        "\n",
        "    # Find best\n",
        "    best_depth = depths[int(np.argmax(test_accs))]\n",
        "    best_acc = max(test_accs)\n",
        "    print(f\"\\nBest test accuracy for {description}: {best_acc:.4f} at depth={best_depth}\")\n",
        "\n",
        "    # === Plot ===\n",
        "    plt.figure(figsize=(8,5))\n",
        "    plt.plot(depths, train_accs, marker=\"o\", label=\"Train Accuracy\")\n",
        "    plt.plot(depths, test_accs, marker=\"s\", label=\"Test Accuracy\")\n",
        "    plt.axvline(best_depth, color=\"r\", linestyle=\"--\", label=f\"Best Depth={best_depth}\")\n",
        "    plt.title(f\"Decision Tree Depth vs Accuracy ({description})\")\n",
        "    plt.xlabel(\"Tree Depth\")\n",
        "    plt.ylabel(\"Accuracy\")\n",
        "    plt.legend()\n",
        "    plt.grid(True, linestyle=\"--\", alpha=0.6)\n",
        "    plt.show()\n",
        "\n"
      ],
      "metadata": {
        "id": "kHhF2MVZintk"
      },
      "execution_count": 9,
      "outputs": []
    },
    {
      "cell_type": "code",
      "source": [
        "train_and_evaluate(X_train, X_task_3,y_train , y_task_3, \"Provided Features\")\n",
        "depth_vs_accuracy(X_train, X_task_3  , y_train, y_task_3, \"Provided Features\")"
      ],
      "metadata": {
        "id": "h9HshEeAitcs",
        "colab": {
          "base_uri": "https://localhost:8080/",
          "height": 973
        },
        "outputId": "729bda6b-228a-4b54-e4ee-356f62cb1700"
      },
      "execution_count": 10,
      "outputs": [
        {
          "output_type": "stream",
          "name": "stdout",
          "text": [
            "\n",
            "===== Provided Features =====\n",
            "Accuracy : 0.8450\n",
            "Precision: 0.8450\n",
            "Recall   : 0.8450\n",
            "Confusion Matrix:\n",
            " [[428  45  23   1   0   3]\n",
            " [ 45 409  42   1   0   3]\n",
            " [ 30  35 435   0   0   0]\n",
            " [  0   1   0 426  42  31]\n",
            " [  0   0   0  34 425  41]\n",
            " [  0   1   0  47  40 412]]\n",
            "Classification Report:\n",
            "               precision    recall  f1-score   support\n",
            "\n",
            "           1       0.85      0.86      0.85       500\n",
            "           2       0.83      0.82      0.83       500\n",
            "           3       0.87      0.87      0.87       500\n",
            "           4       0.84      0.85      0.84       500\n",
            "           5       0.84      0.85      0.84       500\n",
            "           6       0.84      0.82      0.83       500\n",
            "\n",
            "    accuracy                           0.84      3000\n",
            "   macro avg       0.84      0.84      0.84      3000\n",
            "weighted avg       0.84      0.84      0.84      3000\n",
            "\n",
            "\n",
            "Best test accuracy for Provided Features: 0.8450 at depth=26\n"
          ]
        },
        {
          "output_type": "display_data",
          "data": {
            "text/plain": [
              "<Figure size 800x500 with 1 Axes>"
            ],
            "image/png": "[encoded data removed]"
          },
          "metadata": {}
        }
      ]
    },
    {
      "cell_type": "markdown",
      "source": [
        "The model using the provided features achieved a strong overall performance, with an accuracy of 84.5%, precision of 0.845, and recall of 0.845, indicating consistent classification across all classes. The confusion matrix shows that most classes were classified correctly with only minor misclassifications, particularly between adjacent classes (e.g., 1 ↔ 2 and 4 ↔ 6), which is common in multi-class motion datasets. Achieving the best test accuracy at a decision tree depth of 26 suggests that the model benefited from a moderately deep tree, allowing it to capture complex patterns in the provided features without overfitting excessively. Overall, the provided features are highly effective, enabling balanced and reliable predictions across all six classes.\n"
      ],
      "metadata": {
        "id": "bEhnFiYNs29c"
      }
    },
    {
      "cell_type": "code",
      "source": [
        "X_train_3, X_test_3, y_train_3, y_test_3 = train_test_split(\n",
        "    X_task_3, y_task_3, test_size=0.30, random_state=42\n",
        ")"
      ],
      "metadata": {
        "id": "bM_D0QDjizCc"
      },
      "execution_count": 11,
      "outputs": []
    },
    {
      "cell_type": "code",
      "source": [
        "# === Imports ===\n",
        "import numpy as np\n",
        "import pandas as pd\n",
        "import tsfel\n",
        "from joblib import Parallel, delayed\n",
        "from sklearn.model_selection import train_test_split\n",
        "from sklearn.preprocessing import StandardScaler\n",
        "\n",
        "# === Assume you already have X_task_3 (list of 3 DataFrames, one per axis) and y_task_3 ===\n",
        "\n",
        "# === TSFEL Config (temporal features only) ===\n",
        "cfg = tsfel.get_features_by_domain(\"temporal\")\n",
        "\n",
        "# === Feature Extraction Helpers ===\n",
        "def extract_one_sample(row):\n",
        "    return tsfel.time_series_features_extractor(cfg, row.values, fs=50)\n",
        "\n",
        "def extract_axis_features(df):\n",
        "    results = Parallel(n_jobs=-1)(\n",
        "        delayed(extract_one_sample)(df.iloc[i]) for i in range(len(df))\n",
        "    )\n",
        "    return pd.concat(results, ignore_index=True)\n",
        "\n",
        "def extract_all_axes(acc_list):\n",
        "    axis_features = Parallel(n_jobs=len(acc_list))(\n",
        "        delayed(extract_axis_features)(df) for df in acc_list\n",
        "    )\n",
        "    X_feats = pd.concat(axis_features, axis=1)\n",
        "    X_feats = X_feats.loc[:, ~X_feats.columns.duplicated()]\n",
        "    return X_feats\n",
        "\n",
        "# === Extract Temporal Features ===\n",
        "X_feats = extract_all_axes(X_task_3)\n",
        "\n",
        "# === Clean Features ===\n",
        "X_feats = X_feats.replace([np.inf, -np.inf], np.nan)   # remove inf\n",
        "X_feats = X_feats.dropna(axis=1, how=\"any\")            # drop NaN cols\n",
        "X_feats = X_feats.loc[:, X_feats.var() > 0]            # drop constant cols\n",
        "\n",
        "# === Scale ===\n",
        "scaler = StandardScaler()\n",
        "X_feats = scaler.fit_transform(X_feats)\n",
        "\n",
        "# === Train-Test Split ===\n",
        "X_train_3, X_test_3, y_train_3, y_test_3 = train_test_split(\n",
        "    X_feats, y_task_3, test_size=0.3, random_state=42, stratify=y_task_3\n",
        ")\n",
        "\n",
        "# === Train + Evaluate (using your helper functions) ===\n",
        "train_and_evaluate(X_train_3, X_test_3, y_train_3, y_test_3, \"TSFEL Temporal Features\")\n",
        "depth_vs_accuracy(X_train_3, X_test_3, y_train_3, y_test_3, \"TSFEL Temporal Features\")\n"
      ],
      "metadata": {
        "id": "U8EVuguinFxn"
      },
      "execution_count": null,
      "outputs": []
    },
    {
      "cell_type": "markdown",
      "source": [
        "When training models on newly collected data, using raw 3D features often proves insufficient as they capture only basic signal values, while PCA, although effective for dimensionality reduction, still relies on the same raw signal representation and may lose interpretability of the extracted components. In contrast, TSFEL (Time Series Feature Extraction Library) provides a comprehensive feature set by automatically computing a wide range of temporal descriptors such as mean, variance, entropy, skewness, and zero-crossing rate, which together capture both local and global patterns of the signal. This richer and more descriptive feature space enhances the robustness of models to noise, sensor orientation changes, and variability across different data collection sessions, ultimately improving generalization performance. Therefore, despite its higher preprocessing cost, TSFEL is a more suitable choice for training models on new datasets."
      ],
      "metadata": {
        "id": "XGBvHVmRsak-"
      }
    }
  ]
}